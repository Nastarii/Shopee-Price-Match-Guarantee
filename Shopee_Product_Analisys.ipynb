{
  "nbformat": 4,
  "nbformat_minor": 0,
  "metadata": {
    "colab": {
      "provenance": [],
      "authorship_tag": "ABX9TyNXzEs12iRRfURKMz4WvBdU",
      "include_colab_link": true
    },
    "kernelspec": {
      "name": "python3",
      "display_name": "Python 3"
    },
    "language_info": {
      "name": "python"
    },
    "widgets": {
      "application/vnd.jupyter.widget-state+json": {
        "c7c9c789a9dd480b9206e3cfc51ab545": {
          "model_module": "@jupyter-widgets/controls",
          "model_name": "HBoxModel",
          "model_module_version": "1.5.0",
          "state": {
            "_dom_classes": [],
            "_model_module": "@jupyter-widgets/controls",
            "_model_module_version": "1.5.0",
            "_model_name": "HBoxModel",
            "_view_count": null,
            "_view_module": "@jupyter-widgets/controls",
            "_view_module_version": "1.5.0",
            "_view_name": "HBoxView",
            "box_style": "",
            "children": [
              "IPY_MODEL_219b2ae8371e42e1ac00451a44b9e3e7",
              "IPY_MODEL_c8915cc009b842bf8510397c5311361c",
              "IPY_MODEL_240505f810f3451ab0bce19b0d47a2fc"
            ],
            "layout": "IPY_MODEL_b7b135f347974a0b96aada45c5c65ea2"
          }
        },
        "219b2ae8371e42e1ac00451a44b9e3e7": {
          "model_module": "@jupyter-widgets/controls",
          "model_name": "HTMLModel",
          "model_module_version": "1.5.0",
          "state": {
            "_dom_classes": [],
            "_model_module": "@jupyter-widgets/controls",
            "_model_module_version": "1.5.0",
            "_model_name": "HTMLModel",
            "_view_count": null,
            "_view_module": "@jupyter-widgets/controls",
            "_view_module_version": "1.5.0",
            "_view_name": "HTMLView",
            "description": "",
            "description_tooltip": null,
            "layout": "IPY_MODEL_cb6601eb5e704eb6b8fed7904bf979b0",
            "placeholder": "​",
            "style": "IPY_MODEL_4aea07585e9640fd95ee4a18c0275cc0",
            "value": "100%"
          }
        },
        "c8915cc009b842bf8510397c5311361c": {
          "model_module": "@jupyter-widgets/controls",
          "model_name": "FloatProgressModel",
          "model_module_version": "1.5.0",
          "state": {
            "_dom_classes": [],
            "_model_module": "@jupyter-widgets/controls",
            "_model_module_version": "1.5.0",
            "_model_name": "FloatProgressModel",
            "_view_count": null,
            "_view_module": "@jupyter-widgets/controls",
            "_view_module_version": "1.5.0",
            "_view_name": "ProgressView",
            "bar_style": "success",
            "description": "",
            "description_tooltip": null,
            "layout": "IPY_MODEL_d1483d03c8c846f38b767936086568a9",
            "max": 34250,
            "min": 0,
            "orientation": "horizontal",
            "style": "IPY_MODEL_6ba6567c516d44ca8bd74f8c344f2707",
            "value": 34250
          }
        },
        "240505f810f3451ab0bce19b0d47a2fc": {
          "model_module": "@jupyter-widgets/controls",
          "model_name": "HTMLModel",
          "model_module_version": "1.5.0",
          "state": {
            "_dom_classes": [],
            "_model_module": "@jupyter-widgets/controls",
            "_model_module_version": "1.5.0",
            "_model_name": "HTMLModel",
            "_view_count": null,
            "_view_module": "@jupyter-widgets/controls",
            "_view_module_version": "1.5.0",
            "_view_name": "HTMLView",
            "description": "",
            "description_tooltip": null,
            "layout": "IPY_MODEL_a54bfb07bda840578ab70fa35e50ed03",
            "placeholder": "​",
            "style": "IPY_MODEL_54bc16a9eddf4c6abf6169581f531666",
            "value": " 34250/34250 [29:37&lt;00:00, 13.47it/s]"
          }
        },
        "b7b135f347974a0b96aada45c5c65ea2": {
          "model_module": "@jupyter-widgets/base",
          "model_name": "LayoutModel",
          "model_module_version": "1.2.0",
          "state": {
            "_model_module": "@jupyter-widgets/base",
            "_model_module_version": "1.2.0",
            "_model_name": "LayoutModel",
            "_view_count": null,
            "_view_module": "@jupyter-widgets/base",
            "_view_module_version": "1.2.0",
            "_view_name": "LayoutView",
            "align_content": null,
            "align_items": null,
            "align_self": null,
            "border": null,
            "bottom": null,
            "display": null,
            "flex": null,
            "flex_flow": null,
            "grid_area": null,
            "grid_auto_columns": null,
            "grid_auto_flow": null,
            "grid_auto_rows": null,
            "grid_column": null,
            "grid_gap": null,
            "grid_row": null,
            "grid_template_areas": null,
            "grid_template_columns": null,
            "grid_template_rows": null,
            "height": null,
            "justify_content": null,
            "justify_items": null,
            "left": null,
            "margin": null,
            "max_height": null,
            "max_width": null,
            "min_height": null,
            "min_width": null,
            "object_fit": null,
            "object_position": null,
            "order": null,
            "overflow": null,
            "overflow_x": null,
            "overflow_y": null,
            "padding": null,
            "right": null,
            "top": null,
            "visibility": null,
            "width": null
          }
        },
        "cb6601eb5e704eb6b8fed7904bf979b0": {
          "model_module": "@jupyter-widgets/base",
          "model_name": "LayoutModel",
          "model_module_version": "1.2.0",
          "state": {
            "_model_module": "@jupyter-widgets/base",
            "_model_module_version": "1.2.0",
            "_model_name": "LayoutModel",
            "_view_count": null,
            "_view_module": "@jupyter-widgets/base",
            "_view_module_version": "1.2.0",
            "_view_name": "LayoutView",
            "align_content": null,
            "align_items": null,
            "align_self": null,
            "border": null,
            "bottom": null,
            "display": null,
            "flex": null,
            "flex_flow": null,
            "grid_area": null,
            "grid_auto_columns": null,
            "grid_auto_flow": null,
            "grid_auto_rows": null,
            "grid_column": null,
            "grid_gap": null,
            "grid_row": null,
            "grid_template_areas": null,
            "grid_template_columns": null,
            "grid_template_rows": null,
            "height": null,
            "justify_content": null,
            "justify_items": null,
            "left": null,
            "margin": null,
            "max_height": null,
            "max_width": null,
            "min_height": null,
            "min_width": null,
            "object_fit": null,
            "object_position": null,
            "order": null,
            "overflow": null,
            "overflow_x": null,
            "overflow_y": null,
            "padding": null,
            "right": null,
            "top": null,
            "visibility": null,
            "width": null
          }
        },
        "4aea07585e9640fd95ee4a18c0275cc0": {
          "model_module": "@jupyter-widgets/controls",
          "model_name": "DescriptionStyleModel",
          "model_module_version": "1.5.0",
          "state": {
            "_model_module": "@jupyter-widgets/controls",
            "_model_module_version": "1.5.0",
            "_model_name": "DescriptionStyleModel",
            "_view_count": null,
            "_view_module": "@jupyter-widgets/base",
            "_view_module_version": "1.2.0",
            "_view_name": "StyleView",
            "description_width": ""
          }
        },
        "d1483d03c8c846f38b767936086568a9": {
          "model_module": "@jupyter-widgets/base",
          "model_name": "LayoutModel",
          "model_module_version": "1.2.0",
          "state": {
            "_model_module": "@jupyter-widgets/base",
            "_model_module_version": "1.2.0",
            "_model_name": "LayoutModel",
            "_view_count": null,
            "_view_module": "@jupyter-widgets/base",
            "_view_module_version": "1.2.0",
            "_view_name": "LayoutView",
            "align_content": null,
            "align_items": null,
            "align_self": null,
            "border": null,
            "bottom": null,
            "display": null,
            "flex": null,
            "flex_flow": null,
            "grid_area": null,
            "grid_auto_columns": null,
            "grid_auto_flow": null,
            "grid_auto_rows": null,
            "grid_column": null,
            "grid_gap": null,
            "grid_row": null,
            "grid_template_areas": null,
            "grid_template_columns": null,
            "grid_template_rows": null,
            "height": null,
            "justify_content": null,
            "justify_items": null,
            "left": null,
            "margin": null,
            "max_height": null,
            "max_width": null,
            "min_height": null,
            "min_width": null,
            "object_fit": null,
            "object_position": null,
            "order": null,
            "overflow": null,
            "overflow_x": null,
            "overflow_y": null,
            "padding": null,
            "right": null,
            "top": null,
            "visibility": null,
            "width": null
          }
        },
        "6ba6567c516d44ca8bd74f8c344f2707": {
          "model_module": "@jupyter-widgets/controls",
          "model_name": "ProgressStyleModel",
          "model_module_version": "1.5.0",
          "state": {
            "_model_module": "@jupyter-widgets/controls",
            "_model_module_version": "1.5.0",
            "_model_name": "ProgressStyleModel",
            "_view_count": null,
            "_view_module": "@jupyter-widgets/base",
            "_view_module_version": "1.2.0",
            "_view_name": "StyleView",
            "bar_color": null,
            "description_width": ""
          }
        },
        "a54bfb07bda840578ab70fa35e50ed03": {
          "model_module": "@jupyter-widgets/base",
          "model_name": "LayoutModel",
          "model_module_version": "1.2.0",
          "state": {
            "_model_module": "@jupyter-widgets/base",
            "_model_module_version": "1.2.0",
            "_model_name": "LayoutModel",
            "_view_count": null,
            "_view_module": "@jupyter-widgets/base",
            "_view_module_version": "1.2.0",
            "_view_name": "LayoutView",
            "align_content": null,
            "align_items": null,
            "align_self": null,
            "border": null,
            "bottom": null,
            "display": null,
            "flex": null,
            "flex_flow": null,
            "grid_area": null,
            "grid_auto_columns": null,
            "grid_auto_flow": null,
            "grid_auto_rows": null,
            "grid_column": null,
            "grid_gap": null,
            "grid_row": null,
            "grid_template_areas": null,
            "grid_template_columns": null,
            "grid_template_rows": null,
            "height": null,
            "justify_content": null,
            "justify_items": null,
            "left": null,
            "margin": null,
            "max_height": null,
            "max_width": null,
            "min_height": null,
            "min_width": null,
            "object_fit": null,
            "object_position": null,
            "order": null,
            "overflow": null,
            "overflow_x": null,
            "overflow_y": null,
            "padding": null,
            "right": null,
            "top": null,
            "visibility": null,
            "width": null
          }
        },
        "54bc16a9eddf4c6abf6169581f531666": {
          "model_module": "@jupyter-widgets/controls",
          "model_name": "DescriptionStyleModel",
          "model_module_version": "1.5.0",
          "state": {
            "_model_module": "@jupyter-widgets/controls",
            "_model_module_version": "1.5.0",
            "_model_name": "DescriptionStyleModel",
            "_view_count": null,
            "_view_module": "@jupyter-widgets/base",
            "_view_module_version": "1.2.0",
            "_view_name": "StyleView",
            "description_width": ""
          }
        },
        "6f2e22fc0fdf4c05bd95488543865687": {
          "model_module": "@jupyter-widgets/controls",
          "model_name": "HBoxModel",
          "model_module_version": "1.5.0",
          "state": {
            "_dom_classes": [],
            "_model_module": "@jupyter-widgets/controls",
            "_model_module_version": "1.5.0",
            "_model_name": "HBoxModel",
            "_view_count": null,
            "_view_module": "@jupyter-widgets/controls",
            "_view_module_version": "1.5.0",
            "_view_name": "HBoxView",
            "box_style": "",
            "children": [
              "IPY_MODEL_c1d10c6fc6db425e84dd51743bb68dff",
              "IPY_MODEL_c075c4c2e7124d6ea7cccd5516e9bb67",
              "IPY_MODEL_7143bad0f51e41879095aa098a01c776"
            ],
            "layout": "IPY_MODEL_f4649f1a0079433bbe812975372bee66"
          }
        },
        "c1d10c6fc6db425e84dd51743bb68dff": {
          "model_module": "@jupyter-widgets/controls",
          "model_name": "HTMLModel",
          "model_module_version": "1.5.0",
          "state": {
            "_dom_classes": [],
            "_model_module": "@jupyter-widgets/controls",
            "_model_module_version": "1.5.0",
            "_model_name": "HTMLModel",
            "_view_count": null,
            "_view_module": "@jupyter-widgets/controls",
            "_view_module_version": "1.5.0",
            "_view_name": "HTMLView",
            "description": "",
            "description_tooltip": null,
            "layout": "IPY_MODEL_a39741cac525444e8aaa8c60c6b1c9f3",
            "placeholder": "​",
            "style": "IPY_MODEL_ecafa0bf956545beab8204e89540625b",
            "value": "100%"
          }
        },
        "c075c4c2e7124d6ea7cccd5516e9bb67": {
          "model_module": "@jupyter-widgets/controls",
          "model_name": "FloatProgressModel",
          "model_module_version": "1.5.0",
          "state": {
            "_dom_classes": [],
            "_model_module": "@jupyter-widgets/controls",
            "_model_module_version": "1.5.0",
            "_model_name": "FloatProgressModel",
            "_view_count": null,
            "_view_module": "@jupyter-widgets/controls",
            "_view_module_version": "1.5.0",
            "_view_name": "ProgressView",
            "bar_style": "success",
            "description": "",
            "description_tooltip": null,
            "layout": "IPY_MODEL_247188d9d5334c95b1370c9a898f03cd",
            "max": 20,
            "min": 0,
            "orientation": "horizontal",
            "style": "IPY_MODEL_1a15da4db01f43e6a6000cc971f0cbfc",
            "value": 20
          }
        },
        "7143bad0f51e41879095aa098a01c776": {
          "model_module": "@jupyter-widgets/controls",
          "model_name": "HTMLModel",
          "model_module_version": "1.5.0",
          "state": {
            "_dom_classes": [],
            "_model_module": "@jupyter-widgets/controls",
            "_model_module_version": "1.5.0",
            "_model_name": "HTMLModel",
            "_view_count": null,
            "_view_module": "@jupyter-widgets/controls",
            "_view_module_version": "1.5.0",
            "_view_name": "HTMLView",
            "description": "",
            "description_tooltip": null,
            "layout": "IPY_MODEL_15095453a3434334b90f858315661eb5",
            "placeholder": "​",
            "style": "IPY_MODEL_abf691a5b1534fa6a89625e20151dc80",
            "value": " 20/20 [00:00&lt;00:00, 32.56it/s]"
          }
        },
        "f4649f1a0079433bbe812975372bee66": {
          "model_module": "@jupyter-widgets/base",
          "model_name": "LayoutModel",
          "model_module_version": "1.2.0",
          "state": {
            "_model_module": "@jupyter-widgets/base",
            "_model_module_version": "1.2.0",
            "_model_name": "LayoutModel",
            "_view_count": null,
            "_view_module": "@jupyter-widgets/base",
            "_view_module_version": "1.2.0",
            "_view_name": "LayoutView",
            "align_content": null,
            "align_items": null,
            "align_self": null,
            "border": null,
            "bottom": null,
            "display": null,
            "flex": null,
            "flex_flow": null,
            "grid_area": null,
            "grid_auto_columns": null,
            "grid_auto_flow": null,
            "grid_auto_rows": null,
            "grid_column": null,
            "grid_gap": null,
            "grid_row": null,
            "grid_template_areas": null,
            "grid_template_columns": null,
            "grid_template_rows": null,
            "height": null,
            "justify_content": null,
            "justify_items": null,
            "left": null,
            "margin": null,
            "max_height": null,
            "max_width": null,
            "min_height": null,
            "min_width": null,
            "object_fit": null,
            "object_position": null,
            "order": null,
            "overflow": null,
            "overflow_x": null,
            "overflow_y": null,
            "padding": null,
            "right": null,
            "top": null,
            "visibility": null,
            "width": null
          }
        },
        "a39741cac525444e8aaa8c60c6b1c9f3": {
          "model_module": "@jupyter-widgets/base",
          "model_name": "LayoutModel",
          "model_module_version": "1.2.0",
          "state": {
            "_model_module": "@jupyter-widgets/base",
            "_model_module_version": "1.2.0",
            "_model_name": "LayoutModel",
            "_view_count": null,
            "_view_module": "@jupyter-widgets/base",
            "_view_module_version": "1.2.0",
            "_view_name": "LayoutView",
            "align_content": null,
            "align_items": null,
            "align_self": null,
            "border": null,
            "bottom": null,
            "display": null,
            "flex": null,
            "flex_flow": null,
            "grid_area": null,
            "grid_auto_columns": null,
            "grid_auto_flow": null,
            "grid_auto_rows": null,
            "grid_column": null,
            "grid_gap": null,
            "grid_row": null,
            "grid_template_areas": null,
            "grid_template_columns": null,
            "grid_template_rows": null,
            "height": null,
            "justify_content": null,
            "justify_items": null,
            "left": null,
            "margin": null,
            "max_height": null,
            "max_width": null,
            "min_height": null,
            "min_width": null,
            "object_fit": null,
            "object_position": null,
            "order": null,
            "overflow": null,
            "overflow_x": null,
            "overflow_y": null,
            "padding": null,
            "right": null,
            "top": null,
            "visibility": null,
            "width": null
          }
        },
        "ecafa0bf956545beab8204e89540625b": {
          "model_module": "@jupyter-widgets/controls",
          "model_name": "DescriptionStyleModel",
          "model_module_version": "1.5.0",
          "state": {
            "_model_module": "@jupyter-widgets/controls",
            "_model_module_version": "1.5.0",
            "_model_name": "DescriptionStyleModel",
            "_view_count": null,
            "_view_module": "@jupyter-widgets/base",
            "_view_module_version": "1.2.0",
            "_view_name": "StyleView",
            "description_width": ""
          }
        },
        "247188d9d5334c95b1370c9a898f03cd": {
          "model_module": "@jupyter-widgets/base",
          "model_name": "LayoutModel",
          "model_module_version": "1.2.0",
          "state": {
            "_model_module": "@jupyter-widgets/base",
            "_model_module_version": "1.2.0",
            "_model_name": "LayoutModel",
            "_view_count": null,
            "_view_module": "@jupyter-widgets/base",
            "_view_module_version": "1.2.0",
            "_view_name": "LayoutView",
            "align_content": null,
            "align_items": null,
            "align_self": null,
            "border": null,
            "bottom": null,
            "display": null,
            "flex": null,
            "flex_flow": null,
            "grid_area": null,
            "grid_auto_columns": null,
            "grid_auto_flow": null,
            "grid_auto_rows": null,
            "grid_column": null,
            "grid_gap": null,
            "grid_row": null,
            "grid_template_areas": null,
            "grid_template_columns": null,
            "grid_template_rows": null,
            "height": null,
            "justify_content": null,
            "justify_items": null,
            "left": null,
            "margin": null,
            "max_height": null,
            "max_width": null,
            "min_height": null,
            "min_width": null,
            "object_fit": null,
            "object_position": null,
            "order": null,
            "overflow": null,
            "overflow_x": null,
            "overflow_y": null,
            "padding": null,
            "right": null,
            "top": null,
            "visibility": null,
            "width": null
          }
        },
        "1a15da4db01f43e6a6000cc971f0cbfc": {
          "model_module": "@jupyter-widgets/controls",
          "model_name": "ProgressStyleModel",
          "model_module_version": "1.5.0",
          "state": {
            "_model_module": "@jupyter-widgets/controls",
            "_model_module_version": "1.5.0",
            "_model_name": "ProgressStyleModel",
            "_view_count": null,
            "_view_module": "@jupyter-widgets/base",
            "_view_module_version": "1.2.0",
            "_view_name": "StyleView",
            "bar_color": null,
            "description_width": ""
          }
        },
        "15095453a3434334b90f858315661eb5": {
          "model_module": "@jupyter-widgets/base",
          "model_name": "LayoutModel",
          "model_module_version": "1.2.0",
          "state": {
            "_model_module": "@jupyter-widgets/base",
            "_model_module_version": "1.2.0",
            "_model_name": "LayoutModel",
            "_view_count": null,
            "_view_module": "@jupyter-widgets/base",
            "_view_module_version": "1.2.0",
            "_view_name": "LayoutView",
            "align_content": null,
            "align_items": null,
            "align_self": null,
            "border": null,
            "bottom": null,
            "display": null,
            "flex": null,
            "flex_flow": null,
            "grid_area": null,
            "grid_auto_columns": null,
            "grid_auto_flow": null,
            "grid_auto_rows": null,
            "grid_column": null,
            "grid_gap": null,
            "grid_row": null,
            "grid_template_areas": null,
            "grid_template_columns": null,
            "grid_template_rows": null,
            "height": null,
            "justify_content": null,
            "justify_items": null,
            "left": null,
            "margin": null,
            "max_height": null,
            "max_width": null,
            "min_height": null,
            "min_width": null,
            "object_fit": null,
            "object_position": null,
            "order": null,
            "overflow": null,
            "overflow_x": null,
            "overflow_y": null,
            "padding": null,
            "right": null,
            "top": null,
            "visibility": null,
            "width": null
          }
        },
        "abf691a5b1534fa6a89625e20151dc80": {
          "model_module": "@jupyter-widgets/controls",
          "model_name": "DescriptionStyleModel",
          "model_module_version": "1.5.0",
          "state": {
            "_model_module": "@jupyter-widgets/controls",
            "_model_module_version": "1.5.0",
            "_model_name": "DescriptionStyleModel",
            "_view_count": null,
            "_view_module": "@jupyter-widgets/base",
            "_view_module_version": "1.2.0",
            "_view_name": "StyleView",
            "description_width": ""
          }
        }
      }
    }
  },
  "cells": [
    {
      "cell_type": "markdown",
      "metadata": {
        "id": "view-in-github",
        "colab_type": "text"
      },
      "source": [
        "<a href=\"https://colab.research.google.com/github/Nastarii/Shopee-Price-Match-Guarantee/blob/main/Shopee_Product_Analisys.ipynb\" target=\"_parent\"><img src=\"https://colab.research.google.com/assets/colab-badge.svg\" alt=\"Open In Colab\"/></a>"
      ]
    },
    {
      "cell_type": "markdown",
      "source": [
        "# Import Project"
      ],
      "metadata": {
        "id": "UR4MXmdhidhA"
      }
    },
    {
      "cell_type": "code",
      "source": [
        "!rm -r ~/.kaggle\n",
        "!mkdir ~/.kaggle\n",
        "!mv ./kaggle.json ~/.kaggle/\n",
        "!chmod 600 ~/.kaggle/kaggle.json"
      ],
      "metadata": {
        "id": "Pe-Brfo9bd_Z"
      },
      "execution_count": null,
      "outputs": []
    },
    {
      "cell_type": "code",
      "execution_count": null,
      "metadata": {
        "colab": {
          "base_uri": "https://localhost:8080/"
        },
        "id": "vUSqNVo1ZAJs",
        "outputId": "1e8f2f13-dcff-4abb-d712-b95a4bc76e32"
      },
      "outputs": [
        {
          "output_type": "stream",
          "name": "stdout",
          "text": [
            "shopee-product-matching.zip: Skipping, found more recently modified local copy (use --force to force download)\n"
          ]
        }
      ],
      "source": [
        "!kaggle competitions download -c shopee-product-matching"
      ]
    },
    {
      "cell_type": "code",
      "source": [
        "!unzip -qq shopee-product-matching.zip"
      ],
      "metadata": {
        "id": "3Tl0fiKxbsDn"
      },
      "execution_count": null,
      "outputs": []
    },
    {
      "cell_type": "code",
      "source": [
        "!pip install Unidecode"
      ],
      "metadata": {
        "colab": {
          "base_uri": "https://localhost:8080/"
        },
        "id": "TffPLyFjMuZw",
        "outputId": "f8445684-6b85-410a-fa75-2a951af31667"
      },
      "execution_count": null,
      "outputs": [
        {
          "output_type": "stream",
          "name": "stdout",
          "text": [
            "Looking in indexes: https://pypi.org/simple, https://us-python.pkg.dev/colab-wheels/public/simple/\n",
            "Collecting Unidecode\n",
            "  Downloading Unidecode-1.3.6-py3-none-any.whl (235 kB)\n",
            "\u001b[2K     \u001b[90m━━━━━━━━━━━━━━━━━━━━━━━━━━━━━━━━━━━━━━\u001b[0m \u001b[32m235.9/235.9 kB\u001b[0m \u001b[31m10.0 MB/s\u001b[0m eta \u001b[36m0:00:00\u001b[0m\n",
            "\u001b[?25hInstalling collected packages: Unidecode\n",
            "Successfully installed Unidecode-1.3.6\n"
          ]
        }
      ]
    },
    {
      "cell_type": "markdown",
      "source": [
        "**Sugestion:** Store the date from product registration can improve the model"
      ],
      "metadata": {
        "id": "Ghfqxq5oTmu0"
      }
    },
    {
      "cell_type": "markdown",
      "source": [
        "# Read Data"
      ],
      "metadata": {
        "id": "IrACJccIihrw"
      }
    },
    {
      "cell_type": "code",
      "source": [
        "from unidecode import unidecode\n",
        "from tqdm.notebook import tqdm\n",
        "\n",
        "import matplotlib.pyplot as plt\n",
        "import pandas as pd\n",
        "import numpy as np\n",
        "import os\n",
        "\n",
        "train_images, train_df = os.listdir('./train_images'), pd.read_csv('./train.csv')\n",
        "test_images, test_df = os.listdir('./test_images'), pd.read_csv('./test.csv')\n",
        "\n",
        "print(f'Dataset samples amount: ({len(train_images)}, {len(test_images)})')"
      ],
      "metadata": {
        "colab": {
          "base_uri": "https://localhost:8080/"
        },
        "id": "EoD3Lgy3b51O",
        "outputId": "bfcfc644-151f-4d1d-a4f9-b400b0b7bf0b"
      },
      "execution_count": null,
      "outputs": [
        {
          "output_type": "stream",
          "name": "stdout",
          "text": [
            "Dataset samples amount: (32412, 3)\n"
          ]
        }
      ]
    },
    {
      "cell_type": "code",
      "source": [
        "train_df.info()"
      ],
      "metadata": {
        "colab": {
          "base_uri": "https://localhost:8080/"
        },
        "id": "ogwq4KJXfswO",
        "outputId": "02d654e9-435d-4241-f950-c902ed59ad87"
      },
      "execution_count": null,
      "outputs": [
        {
          "output_type": "stream",
          "name": "stdout",
          "text": [
            "<class 'pandas.core.frame.DataFrame'>\n",
            "RangeIndex: 34250 entries, 0 to 34249\n",
            "Data columns (total 5 columns):\n",
            " #   Column       Non-Null Count  Dtype \n",
            "---  ------       --------------  ----- \n",
            " 0   posting_id   34250 non-null  object\n",
            " 1   image        34250 non-null  object\n",
            " 2   image_phash  34250 non-null  object\n",
            " 3   title        34250 non-null  object\n",
            " 4   label_group  34250 non-null  int64 \n",
            "dtypes: int64(1), object(4)\n",
            "memory usage: 1.3+ MB\n"
          ]
        }
      ]
    },
    {
      "cell_type": "code",
      "source": [
        "train_df.head()"
      ],
      "metadata": {
        "colab": {
          "base_uri": "https://localhost:8080/",
          "height": 206
        },
        "id": "RBtjGCoggqZD",
        "outputId": "2945b1c0-8081-4fba-80e2-9e891b0a83de"
      },
      "execution_count": null,
      "outputs": [
        {
          "output_type": "execute_result",
          "data": {
            "text/plain": [
              "         posting_id                                 image       image_phash  \\\n",
              "0   train_129225211  0000a68812bc7e98c42888dfb1c07da0.jpg  94974f937d4c2433   \n",
              "1  train_3386243561  00039780dfc94d01db8676fe789ecd05.jpg  af3f9460c2838f0f   \n",
              "2  train_2288590299  000a190fdd715a2a36faed16e2c65df7.jpg  b94cb00ed3e50f78   \n",
              "3  train_2406599165  00117e4fc239b1b641ff08340b429633.jpg  8514fc58eafea283   \n",
              "4  train_3369186413  00136d1cf4edede0203f32f05f660588.jpg  a6f319f924ad708c   \n",
              "\n",
              "                                               title  label_group  \n",
              "0                          Paper Bag Victoria Secret    249114794  \n",
              "1  Double Tape 3M VHB 12 mm x 4,5 m ORIGINAL / DO...   2937985045  \n",
              "2        Maling TTS Canned Pork Luncheon Meat 397 gr   2395904891  \n",
              "3  Daster Batik Lengan pendek - Motif Acak / Camp...   4093212188  \n",
              "4                  Nescafe \\xc3\\x89clair Latte 220ml   3648931069  "
            ],
            "text/html": [
              "\n",
              "  <div id=\"df-c073cb77-db9b-4454-9e96-394ddccc9eab\">\n",
              "    <div class=\"colab-df-container\">\n",
              "      <div>\n",
              "<style scoped>\n",
              "    .dataframe tbody tr th:only-of-type {\n",
              "        vertical-align: middle;\n",
              "    }\n",
              "\n",
              "    .dataframe tbody tr th {\n",
              "        vertical-align: top;\n",
              "    }\n",
              "\n",
              "    .dataframe thead th {\n",
              "        text-align: right;\n",
              "    }\n",
              "</style>\n",
              "<table border=\"1\" class=\"dataframe\">\n",
              "  <thead>\n",
              "    <tr style=\"text-align: right;\">\n",
              "      <th></th>\n",
              "      <th>posting_id</th>\n",
              "      <th>image</th>\n",
              "      <th>image_phash</th>\n",
              "      <th>title</th>\n",
              "      <th>label_group</th>\n",
              "    </tr>\n",
              "  </thead>\n",
              "  <tbody>\n",
              "    <tr>\n",
              "      <th>0</th>\n",
              "      <td>train_129225211</td>\n",
              "      <td>0000a68812bc7e98c42888dfb1c07da0.jpg</td>\n",
              "      <td>94974f937d4c2433</td>\n",
              "      <td>Paper Bag Victoria Secret</td>\n",
              "      <td>249114794</td>\n",
              "    </tr>\n",
              "    <tr>\n",
              "      <th>1</th>\n",
              "      <td>train_3386243561</td>\n",
              "      <td>00039780dfc94d01db8676fe789ecd05.jpg</td>\n",
              "      <td>af3f9460c2838f0f</td>\n",
              "      <td>Double Tape 3M VHB 12 mm x 4,5 m ORIGINAL / DO...</td>\n",
              "      <td>2937985045</td>\n",
              "    </tr>\n",
              "    <tr>\n",
              "      <th>2</th>\n",
              "      <td>train_2288590299</td>\n",
              "      <td>000a190fdd715a2a36faed16e2c65df7.jpg</td>\n",
              "      <td>b94cb00ed3e50f78</td>\n",
              "      <td>Maling TTS Canned Pork Luncheon Meat 397 gr</td>\n",
              "      <td>2395904891</td>\n",
              "    </tr>\n",
              "    <tr>\n",
              "      <th>3</th>\n",
              "      <td>train_2406599165</td>\n",
              "      <td>00117e4fc239b1b641ff08340b429633.jpg</td>\n",
              "      <td>8514fc58eafea283</td>\n",
              "      <td>Daster Batik Lengan pendek - Motif Acak / Camp...</td>\n",
              "      <td>4093212188</td>\n",
              "    </tr>\n",
              "    <tr>\n",
              "      <th>4</th>\n",
              "      <td>train_3369186413</td>\n",
              "      <td>00136d1cf4edede0203f32f05f660588.jpg</td>\n",
              "      <td>a6f319f924ad708c</td>\n",
              "      <td>Nescafe \\xc3\\x89clair Latte 220ml</td>\n",
              "      <td>3648931069</td>\n",
              "    </tr>\n",
              "  </tbody>\n",
              "</table>\n",
              "</div>\n",
              "      <button class=\"colab-df-convert\" onclick=\"convertToInteractive('df-c073cb77-db9b-4454-9e96-394ddccc9eab')\"\n",
              "              title=\"Convert this dataframe to an interactive table.\"\n",
              "              style=\"display:none;\">\n",
              "        \n",
              "  <svg xmlns=\"http://www.w3.org/2000/svg\" height=\"24px\"viewBox=\"0 0 24 24\"\n",
              "       width=\"24px\">\n",
              "    <path d=\"M0 0h24v24H0V0z\" fill=\"none\"/>\n",
              "    <path d=\"M18.56 5.44l.94 2.06.94-2.06 2.06-.94-2.06-.94-.94-2.06-.94 2.06-2.06.94zm-11 1L8.5 8.5l.94-2.06 2.06-.94-2.06-.94L8.5 2.5l-.94 2.06-2.06.94zm10 10l.94 2.06.94-2.06 2.06-.94-2.06-.94-.94-2.06-.94 2.06-2.06.94z\"/><path d=\"M17.41 7.96l-1.37-1.37c-.4-.4-.92-.59-1.43-.59-.52 0-1.04.2-1.43.59L10.3 9.45l-7.72 7.72c-.78.78-.78 2.05 0 2.83L4 21.41c.39.39.9.59 1.41.59.51 0 1.02-.2 1.41-.59l7.78-7.78 2.81-2.81c.8-.78.8-2.07 0-2.86zM5.41 20L4 18.59l7.72-7.72 1.47 1.35L5.41 20z\"/>\n",
              "  </svg>\n",
              "      </button>\n",
              "      \n",
              "  <style>\n",
              "    .colab-df-container {\n",
              "      display:flex;\n",
              "      flex-wrap:wrap;\n",
              "      gap: 12px;\n",
              "    }\n",
              "\n",
              "    .colab-df-convert {\n",
              "      background-color: #E8F0FE;\n",
              "      border: none;\n",
              "      border-radius: 50%;\n",
              "      cursor: pointer;\n",
              "      display: none;\n",
              "      fill: #1967D2;\n",
              "      height: 32px;\n",
              "      padding: 0 0 0 0;\n",
              "      width: 32px;\n",
              "    }\n",
              "\n",
              "    .colab-df-convert:hover {\n",
              "      background-color: #E2EBFA;\n",
              "      box-shadow: 0px 1px 2px rgba(60, 64, 67, 0.3), 0px 1px 3px 1px rgba(60, 64, 67, 0.15);\n",
              "      fill: #174EA6;\n",
              "    }\n",
              "\n",
              "    [theme=dark] .colab-df-convert {\n",
              "      background-color: #3B4455;\n",
              "      fill: #D2E3FC;\n",
              "    }\n",
              "\n",
              "    [theme=dark] .colab-df-convert:hover {\n",
              "      background-color: #434B5C;\n",
              "      box-shadow: 0px 1px 3px 1px rgba(0, 0, 0, 0.15);\n",
              "      filter: drop-shadow(0px 1px 2px rgba(0, 0, 0, 0.3));\n",
              "      fill: #FFFFFF;\n",
              "    }\n",
              "  </style>\n",
              "\n",
              "      <script>\n",
              "        const buttonEl =\n",
              "          document.querySelector('#df-c073cb77-db9b-4454-9e96-394ddccc9eab button.colab-df-convert');\n",
              "        buttonEl.style.display =\n",
              "          google.colab.kernel.accessAllowed ? 'block' : 'none';\n",
              "\n",
              "        async function convertToInteractive(key) {\n",
              "          const element = document.querySelector('#df-c073cb77-db9b-4454-9e96-394ddccc9eab');\n",
              "          const dataTable =\n",
              "            await google.colab.kernel.invokeFunction('convertToInteractive',\n",
              "                                                     [key], {});\n",
              "          if (!dataTable) return;\n",
              "\n",
              "          const docLinkHtml = 'Like what you see? Visit the ' +\n",
              "            '<a target=\"_blank\" href=https://colab.research.google.com/notebooks/data_table.ipynb>data table notebook</a>'\n",
              "            + ' to learn more about interactive tables.';\n",
              "          element.innerHTML = '';\n",
              "          dataTable['output_type'] = 'display_data';\n",
              "          await google.colab.output.renderOutput(dataTable, element);\n",
              "          const docLink = document.createElement('div');\n",
              "          docLink.innerHTML = docLinkHtml;\n",
              "          element.appendChild(docLink);\n",
              "        }\n",
              "      </script>\n",
              "    </div>\n",
              "  </div>\n",
              "  "
            ]
          },
          "metadata": {},
          "execution_count": 8
        }
      ]
    },
    {
      "cell_type": "markdown",
      "source": [
        "# Resample Dataset"
      ],
      "metadata": {
        "id": "-J4lZXpwjZ9t"
      }
    },
    {
      "cell_type": "markdown",
      "source": [
        "Our goal is create a new dataset with the input data from 2 products and train some model that will identify if it's a duplicated product or not"
      ],
      "metadata": {
        "id": "oHHMIQEodjZV"
      }
    },
    {
      "cell_type": "code",
      "source": [
        "#@title Preprocessing\n",
        "train_df['title'] = train_df['title'].apply(lambda x: unidecode(x))\n",
        "train_df['title'] = train_df['title'].str.lower()\n",
        "\n",
        "train_df.set_index('label_group', inplace=True)\n",
        "train_df"
      ],
      "metadata": {
        "colab": {
          "base_uri": "https://localhost:8080/",
          "height": 455
        },
        "id": "K23qUaiXP5Y4",
        "outputId": "8e6172b2-d0de-45ea-a6d1-455b4e74b79e"
      },
      "execution_count": null,
      "outputs": [
        {
          "output_type": "execute_result",
          "data": {
            "text/plain": [
              "                   posting_id                                 image  \\\n",
              "label_group                                                           \n",
              "249114794     train_129225211  0000a68812bc7e98c42888dfb1c07da0.jpg   \n",
              "2937985045   train_3386243561  00039780dfc94d01db8676fe789ecd05.jpg   \n",
              "2395904891   train_2288590299  000a190fdd715a2a36faed16e2c65df7.jpg   \n",
              "4093212188   train_2406599165  00117e4fc239b1b641ff08340b429633.jpg   \n",
              "3648931069   train_3369186413  00136d1cf4edede0203f32f05f660588.jpg   \n",
              "...                       ...                                   ...   \n",
              "3776555725   train_4028265689  fff1c07ceefc2c970a7964cfb81981c5.jpg   \n",
              "2736479533    train_769054909  fff401691371bdcb382a0d9075dfea6a.jpg   \n",
              "4101248785    train_614977732  fff421b78fa7284284724baf249f522e.jpg   \n",
              "1663538013   train_3630949769  fff51b87916dbfb6d0f8faa01bee67b8.jpg   \n",
              "459464107    train_1792180725  ffffa0ab2ae542357671e96254fa7167.jpg   \n",
              "\n",
              "                  image_phash  \\\n",
              "label_group                     \n",
              "249114794    94974f937d4c2433   \n",
              "2937985045   af3f9460c2838f0f   \n",
              "2395904891   b94cb00ed3e50f78   \n",
              "4093212188   8514fc58eafea283   \n",
              "3648931069   a6f319f924ad708c   \n",
              "...                       ...   \n",
              "3776555725   e3cd72389f248f21   \n",
              "2736479533   be86851f72e2853c   \n",
              "4101248785   ad27f0d08c0fcbf0   \n",
              "1663538013   e3b13bd1d896c05c   \n",
              "459464107    af8bc4b2d2cf9083   \n",
              "\n",
              "                                                         title  \n",
              "label_group                                                     \n",
              "249114794                            paper bag victoria secret  \n",
              "2937985045   double tape 3m vhb 12 mm x 4,5 m original / do...  \n",
              "2395904891         maling tts canned pork luncheon meat 397 gr  \n",
              "4093212188   daster batik lengan pendek - motif acak / camp...  \n",
              "3648931069                   nescafe \\xc3\\x89clair latte 220ml  \n",
              "...                                                        ...  \n",
              "3776555725   masker bahan kain spunbond non woven 75 gsm 3 ...  \n",
              "2736479533     mamypoko pants royal soft - s 70 - popok celana  \n",
              "4101248785   khanzaacc robot re101s 1.2mm subwoofer bass me...  \n",
              "1663538013   kaldu non msg halal mama kamu ayam kampung , s...  \n",
              "459464107    flex tape pelapis bocor / isolasi ajaib / anti...  \n",
              "\n",
              "[34250 rows x 4 columns]"
            ],
            "text/html": [
              "\n",
              "  <div id=\"df-4ca24769-716d-4b62-880c-a20746de52ea\">\n",
              "    <div class=\"colab-df-container\">\n",
              "      <div>\n",
              "<style scoped>\n",
              "    .dataframe tbody tr th:only-of-type {\n",
              "        vertical-align: middle;\n",
              "    }\n",
              "\n",
              "    .dataframe tbody tr th {\n",
              "        vertical-align: top;\n",
              "    }\n",
              "\n",
              "    .dataframe thead th {\n",
              "        text-align: right;\n",
              "    }\n",
              "</style>\n",
              "<table border=\"1\" class=\"dataframe\">\n",
              "  <thead>\n",
              "    <tr style=\"text-align: right;\">\n",
              "      <th></th>\n",
              "      <th>posting_id</th>\n",
              "      <th>image</th>\n",
              "      <th>image_phash</th>\n",
              "      <th>title</th>\n",
              "    </tr>\n",
              "    <tr>\n",
              "      <th>label_group</th>\n",
              "      <th></th>\n",
              "      <th></th>\n",
              "      <th></th>\n",
              "      <th></th>\n",
              "    </tr>\n",
              "  </thead>\n",
              "  <tbody>\n",
              "    <tr>\n",
              "      <th>249114794</th>\n",
              "      <td>train_129225211</td>\n",
              "      <td>0000a68812bc7e98c42888dfb1c07da0.jpg</td>\n",
              "      <td>94974f937d4c2433</td>\n",
              "      <td>paper bag victoria secret</td>\n",
              "    </tr>\n",
              "    <tr>\n",
              "      <th>2937985045</th>\n",
              "      <td>train_3386243561</td>\n",
              "      <td>00039780dfc94d01db8676fe789ecd05.jpg</td>\n",
              "      <td>af3f9460c2838f0f</td>\n",
              "      <td>double tape 3m vhb 12 mm x 4,5 m original / do...</td>\n",
              "    </tr>\n",
              "    <tr>\n",
              "      <th>2395904891</th>\n",
              "      <td>train_2288590299</td>\n",
              "      <td>000a190fdd715a2a36faed16e2c65df7.jpg</td>\n",
              "      <td>b94cb00ed3e50f78</td>\n",
              "      <td>maling tts canned pork luncheon meat 397 gr</td>\n",
              "    </tr>\n",
              "    <tr>\n",
              "      <th>4093212188</th>\n",
              "      <td>train_2406599165</td>\n",
              "      <td>00117e4fc239b1b641ff08340b429633.jpg</td>\n",
              "      <td>8514fc58eafea283</td>\n",
              "      <td>daster batik lengan pendek - motif acak / camp...</td>\n",
              "    </tr>\n",
              "    <tr>\n",
              "      <th>3648931069</th>\n",
              "      <td>train_3369186413</td>\n",
              "      <td>00136d1cf4edede0203f32f05f660588.jpg</td>\n",
              "      <td>a6f319f924ad708c</td>\n",
              "      <td>nescafe \\xc3\\x89clair latte 220ml</td>\n",
              "    </tr>\n",
              "    <tr>\n",
              "      <th>...</th>\n",
              "      <td>...</td>\n",
              "      <td>...</td>\n",
              "      <td>...</td>\n",
              "      <td>...</td>\n",
              "    </tr>\n",
              "    <tr>\n",
              "      <th>3776555725</th>\n",
              "      <td>train_4028265689</td>\n",
              "      <td>fff1c07ceefc2c970a7964cfb81981c5.jpg</td>\n",
              "      <td>e3cd72389f248f21</td>\n",
              "      <td>masker bahan kain spunbond non woven 75 gsm 3 ...</td>\n",
              "    </tr>\n",
              "    <tr>\n",
              "      <th>2736479533</th>\n",
              "      <td>train_769054909</td>\n",
              "      <td>fff401691371bdcb382a0d9075dfea6a.jpg</td>\n",
              "      <td>be86851f72e2853c</td>\n",
              "      <td>mamypoko pants royal soft - s 70 - popok celana</td>\n",
              "    </tr>\n",
              "    <tr>\n",
              "      <th>4101248785</th>\n",
              "      <td>train_614977732</td>\n",
              "      <td>fff421b78fa7284284724baf249f522e.jpg</td>\n",
              "      <td>ad27f0d08c0fcbf0</td>\n",
              "      <td>khanzaacc robot re101s 1.2mm subwoofer bass me...</td>\n",
              "    </tr>\n",
              "    <tr>\n",
              "      <th>1663538013</th>\n",
              "      <td>train_3630949769</td>\n",
              "      <td>fff51b87916dbfb6d0f8faa01bee67b8.jpg</td>\n",
              "      <td>e3b13bd1d896c05c</td>\n",
              "      <td>kaldu non msg halal mama kamu ayam kampung , s...</td>\n",
              "    </tr>\n",
              "    <tr>\n",
              "      <th>459464107</th>\n",
              "      <td>train_1792180725</td>\n",
              "      <td>ffffa0ab2ae542357671e96254fa7167.jpg</td>\n",
              "      <td>af8bc4b2d2cf9083</td>\n",
              "      <td>flex tape pelapis bocor / isolasi ajaib / anti...</td>\n",
              "    </tr>\n",
              "  </tbody>\n",
              "</table>\n",
              "<p>34250 rows × 4 columns</p>\n",
              "</div>\n",
              "      <button class=\"colab-df-convert\" onclick=\"convertToInteractive('df-4ca24769-716d-4b62-880c-a20746de52ea')\"\n",
              "              title=\"Convert this dataframe to an interactive table.\"\n",
              "              style=\"display:none;\">\n",
              "        \n",
              "  <svg xmlns=\"http://www.w3.org/2000/svg\" height=\"24px\"viewBox=\"0 0 24 24\"\n",
              "       width=\"24px\">\n",
              "    <path d=\"M0 0h24v24H0V0z\" fill=\"none\"/>\n",
              "    <path d=\"M18.56 5.44l.94 2.06.94-2.06 2.06-.94-2.06-.94-.94-2.06-.94 2.06-2.06.94zm-11 1L8.5 8.5l.94-2.06 2.06-.94-2.06-.94L8.5 2.5l-.94 2.06-2.06.94zm10 10l.94 2.06.94-2.06 2.06-.94-2.06-.94-.94-2.06-.94 2.06-2.06.94z\"/><path d=\"M17.41 7.96l-1.37-1.37c-.4-.4-.92-.59-1.43-.59-.52 0-1.04.2-1.43.59L10.3 9.45l-7.72 7.72c-.78.78-.78 2.05 0 2.83L4 21.41c.39.39.9.59 1.41.59.51 0 1.02-.2 1.41-.59l7.78-7.78 2.81-2.81c.8-.78.8-2.07 0-2.86zM5.41 20L4 18.59l7.72-7.72 1.47 1.35L5.41 20z\"/>\n",
              "  </svg>\n",
              "      </button>\n",
              "      \n",
              "  <style>\n",
              "    .colab-df-container {\n",
              "      display:flex;\n",
              "      flex-wrap:wrap;\n",
              "      gap: 12px;\n",
              "    }\n",
              "\n",
              "    .colab-df-convert {\n",
              "      background-color: #E8F0FE;\n",
              "      border: none;\n",
              "      border-radius: 50%;\n",
              "      cursor: pointer;\n",
              "      display: none;\n",
              "      fill: #1967D2;\n",
              "      height: 32px;\n",
              "      padding: 0 0 0 0;\n",
              "      width: 32px;\n",
              "    }\n",
              "\n",
              "    .colab-df-convert:hover {\n",
              "      background-color: #E2EBFA;\n",
              "      box-shadow: 0px 1px 2px rgba(60, 64, 67, 0.3), 0px 1px 3px 1px rgba(60, 64, 67, 0.15);\n",
              "      fill: #174EA6;\n",
              "    }\n",
              "\n",
              "    [theme=dark] .colab-df-convert {\n",
              "      background-color: #3B4455;\n",
              "      fill: #D2E3FC;\n",
              "    }\n",
              "\n",
              "    [theme=dark] .colab-df-convert:hover {\n",
              "      background-color: #434B5C;\n",
              "      box-shadow: 0px 1px 3px 1px rgba(0, 0, 0, 0.15);\n",
              "      filter: drop-shadow(0px 1px 2px rgba(0, 0, 0, 0.3));\n",
              "      fill: #FFFFFF;\n",
              "    }\n",
              "  </style>\n",
              "\n",
              "      <script>\n",
              "        const buttonEl =\n",
              "          document.querySelector('#df-4ca24769-716d-4b62-880c-a20746de52ea button.colab-df-convert');\n",
              "        buttonEl.style.display =\n",
              "          google.colab.kernel.accessAllowed ? 'block' : 'none';\n",
              "\n",
              "        async function convertToInteractive(key) {\n",
              "          const element = document.querySelector('#df-4ca24769-716d-4b62-880c-a20746de52ea');\n",
              "          const dataTable =\n",
              "            await google.colab.kernel.invokeFunction('convertToInteractive',\n",
              "                                                     [key], {});\n",
              "          if (!dataTable) return;\n",
              "\n",
              "          const docLinkHtml = 'Like what you see? Visit the ' +\n",
              "            '<a target=\"_blank\" href=https://colab.research.google.com/notebooks/data_table.ipynb>data table notebook</a>'\n",
              "            + ' to learn more about interactive tables.';\n",
              "          element.innerHTML = '';\n",
              "          dataTable['output_type'] = 'display_data';\n",
              "          await google.colab.output.renderOutput(dataTable, element);\n",
              "          const docLink = document.createElement('div');\n",
              "          docLink.innerHTML = docLinkHtml;\n",
              "          element.appendChild(docLink);\n",
              "        }\n",
              "      </script>\n",
              "    </div>\n",
              "  </div>\n",
              "  "
            ]
          },
          "metadata": {},
          "execution_count": 6
        }
      ]
    },
    {
      "cell_type": "code",
      "source": [
        "df = pd.DataFrame([],columns=[f\"{col}_{int(idx/len(train_df.columns))}\" for idx, col in enumerate([*train_df.columns] * 2)])\n",
        "\n",
        "print('Progress:\\n')\n",
        "\n",
        "for i in tqdm(train_df.index):\n",
        "    # Separate Samples\n",
        "    repeated_products = train_df.loc[i]\n",
        "    \n",
        "    stack_df = pd.DataFrame(repeated_products.stack().reset_index(drop=True)).T\n",
        "    \n",
        "    while len(stack_df.columns) > 8:\n",
        "\n",
        "        subset_df = stack_df.iloc[:, :len(train_df.columns) * 2]\n",
        "        subset_df.columns = df.columns\n",
        "\n",
        "        df = pd.concat([df, subset_df], ignore_index=True)\n",
        "        stack_df = stack_df.iloc[:, 4:]\n",
        "\n",
        "    stack_df.columns = df.columns\n",
        "    df = pd.concat([df, stack_df], ignore_index=True)"
      ],
      "metadata": {
        "colab": {
          "base_uri": "https://localhost:8080/",
          "height": 86,
          "referenced_widgets": [
            "c7c9c789a9dd480b9206e3cfc51ab545",
            "219b2ae8371e42e1ac00451a44b9e3e7",
            "c8915cc009b842bf8510397c5311361c",
            "240505f810f3451ab0bce19b0d47a2fc",
            "b7b135f347974a0b96aada45c5c65ea2",
            "cb6601eb5e704eb6b8fed7904bf979b0",
            "4aea07585e9640fd95ee4a18c0275cc0",
            "d1483d03c8c846f38b767936086568a9",
            "6ba6567c516d44ca8bd74f8c344f2707",
            "a54bfb07bda840578ab70fa35e50ed03",
            "54bc16a9eddf4c6abf6169581f531666"
          ]
        },
        "id": "nkNq50JkQ8fl",
        "outputId": "706a467d-69ed-44f1-d630-0a825f6c3516"
      },
      "execution_count": null,
      "outputs": [
        {
          "output_type": "stream",
          "name": "stdout",
          "text": [
            "Progress:\n",
            "\n"
          ]
        },
        {
          "output_type": "display_data",
          "data": {
            "text/plain": [
              "  0%|          | 0/34250 [00:00<?, ?it/s]"
            ],
            "application/vnd.jupyter.widget-view+json": {
              "version_major": 2,
              "version_minor": 0,
              "model_id": "c7c9c789a9dd480b9206e3cfc51ab545"
            }
          },
          "metadata": {}
        }
      ]
    },
    {
      "cell_type": "code",
      "source": [
        "columns_names = [f\"{col}_{int(idx/len(train_df.columns))}\" for idx, col in enumerate([*train_df.columns] * 2)]\n",
        "non_df = pd.DataFrame([],columns=columns_names)\n",
        "\n",
        "for i in tqdm(range(20)):\n",
        "\n",
        "    non_duplicates = train_df.reset_index().drop_duplicates(subset='label_group').set_index('label_group').values.reshape(int(11014/2),8)\n",
        "\n",
        "    non_df = pd.concat([non_df, pd.DataFrame(non_duplicates,columns=columns_names).sample(frac=1)], ignore_index=True)"
      ],
      "metadata": {
        "colab": {
          "base_uri": "https://localhost:8080/",
          "height": 49,
          "referenced_widgets": [
            "6f2e22fc0fdf4c05bd95488543865687",
            "c1d10c6fc6db425e84dd51743bb68dff",
            "c075c4c2e7124d6ea7cccd5516e9bb67",
            "7143bad0f51e41879095aa098a01c776",
            "f4649f1a0079433bbe812975372bee66",
            "a39741cac525444e8aaa8c60c6b1c9f3",
            "ecafa0bf956545beab8204e89540625b",
            "247188d9d5334c95b1370c9a898f03cd",
            "1a15da4db01f43e6a6000cc971f0cbfc",
            "15095453a3434334b90f858315661eb5",
            "abf691a5b1534fa6a89625e20151dc80"
          ]
        },
        "id": "ujnBdM2V3HJ2",
        "outputId": "40f7150e-f91a-4f03-dd44-4777c26821ff"
      },
      "execution_count": null,
      "outputs": [
        {
          "output_type": "display_data",
          "data": {
            "text/plain": [
              "  0%|          | 0/20 [00:00<?, ?it/s]"
            ],
            "application/vnd.jupyter.widget-view+json": {
              "version_major": 2,
              "version_minor": 0,
              "model_id": "6f2e22fc0fdf4c05bd95488543865687"
            }
          },
          "metadata": {}
        }
      ]
    },
    {
      "cell_type": "code",
      "source": [
        "non_df['duplicates'] = 0\n",
        "df['duplicates'] = 1\n",
        "\n",
        "df = pd.concat([df,non_df.iloc[:len(df)]],axis=0)\n",
        "df.to_csv('shopee_dataset.csv')"
      ],
      "metadata": {
        "id": "hA3qOwBipbLu"
      },
      "execution_count": null,
      "outputs": []
    },
    {
      "cell_type": "markdown",
      "source": [
        "# Preprocessing Data"
      ],
      "metadata": {
        "id": "ngB1hC96S6FD"
      }
    },
    {
      "cell_type": "code",
      "source": [
        "df = pd.read_csv('shopee_dataset.csv').sample(frac=1)"
      ],
      "metadata": {
        "id": "59W2B8T7TPRk"
      },
      "execution_count": null,
      "outputs": []
    },
    {
      "cell_type": "code",
      "source": [
        "input_names = ['image_phash_0', 'title_0', 'image_phash_1', 'title_1']\n",
        "df['concatenated'] = df[input_names].apply(lambda row: ' '.join(row.values.astype(str)), axis=1)\n",
        "\n",
        "X, y  = df['concatenated'], df['duplicates']"
      ],
      "metadata": {
        "id": "gE2TjYoATUGr"
      },
      "execution_count": null,
      "outputs": []
    },
    {
      "cell_type": "code",
      "source": [
        "from sklearn.feature_extraction.text import TfidfVectorizer\n",
        "from sklearn.model_selection import train_test_split\n",
        "\n",
        "# Create an instance of TfidfVectorizer\n",
        "vectorizer = TfidfVectorizer()\n",
        "\n",
        "# Fit the vectorizer to the documents and transform the documents into TF-IDF features\n",
        "X = vectorizer.fit_transform(X)"
      ],
      "metadata": {
        "id": "ggl-1UQBUsnQ"
      },
      "execution_count": null,
      "outputs": []
    },
    {
      "cell_type": "code",
      "source": [
        "# Split the data into training and testing sets\n",
        "X_train, X_test, y_train, y_test = train_test_split(X, y, test_size=0.25, random_state=42)"
      ],
      "metadata": {
        "id": "g9YyMzbeW_7y"
      },
      "execution_count": null,
      "outputs": []
    },
    {
      "cell_type": "code",
      "source": [
        "import xgboost as xgb\n",
        "from sklearn.metrics import accuracy_score\n",
        "\n",
        "# Create an instance of the Classifier\n",
        "model = xgb.XGBClassifier()\n",
        "\n",
        "# Train the classifier on the training data and track the evaluation metrics\n",
        "eval_set = [(X_train, y_train), (X_test, y_test)]\n",
        "model.fit(X_train, y_train, eval_set=eval_set, eval_metric=\"error\", verbose=True)\n",
        "\n",
        "# Plot the training progress\n",
        "results = model.evals_result()\n",
        "epochs = len(results['validation_0']['error'])\n",
        "x_axis = range(0, epochs)\n",
        "fig, ax = plt.subplots()\n",
        "ax.plot(x_axis, results['validation_0']['error'], label='Train')\n",
        "ax.plot(x_axis, results['validation_1']['error'], label='Test')\n",
        "ax.legend()\n",
        "plt.ylabel('Error')\n",
        "plt.xlabel('Epochs')\n",
        "plt.title('XGBoost Training Progress')\n",
        "plt.show()\n",
        "\n",
        "# Make predictions on the testing set\n",
        "y_pred = model.predict(X_test)\n",
        "\n",
        "# Calculate accuracy\n",
        "accuracy = accuracy_score(y_test, y_pred)\n",
        "print(\"Accuracy:\", accuracy)"
      ],
      "metadata": {
        "colab": {
          "base_uri": "https://localhost:8080/",
          "height": 1000
        },
        "id": "kcrQpZ9rXN3S",
        "outputId": "01d94181-b39c-4ade-9ade-a6f657651222"
      },
      "execution_count": null,
      "outputs": [
        {
          "output_type": "stream",
          "name": "stderr",
          "text": [
            "/usr/local/lib/python3.10/dist-packages/xgboost/sklearn.py:835: UserWarning: `eval_metric` in `fit` method is deprecated for better compatibility with scikit-learn, use `eval_metric` in constructor or`set_params` instead.\n",
            "  warnings.warn(\n"
          ]
        },
        {
          "output_type": "stream",
          "name": "stdout",
          "text": [
            "[0]\tvalidation_0-error:0.32730\tvalidation_1-error:0.32852\n",
            "[1]\tvalidation_0-error:0.31761\tvalidation_1-error:0.31864\n",
            "[2]\tvalidation_0-error:0.29352\tvalidation_1-error:0.29530\n",
            "[3]\tvalidation_0-error:0.28156\tvalidation_1-error:0.28321\n",
            "[4]\tvalidation_0-error:0.28138\tvalidation_1-error:0.28289\n",
            "[5]\tvalidation_0-error:0.27176\tvalidation_1-error:0.27419\n",
            "[6]\tvalidation_0-error:0.26348\tvalidation_1-error:0.26515\n",
            "[7]\tvalidation_0-error:0.25814\tvalidation_1-error:0.25940\n",
            "[8]\tvalidation_0-error:0.25266\tvalidation_1-error:0.25444\n",
            "[9]\tvalidation_0-error:0.25050\tvalidation_1-error:0.25191\n",
            "[10]\tvalidation_0-error:0.24858\tvalidation_1-error:0.24997\n",
            "[11]\tvalidation_0-error:0.24758\tvalidation_1-error:0.24917\n",
            "[12]\tvalidation_0-error:0.23568\tvalidation_1-error:0.23637\n",
            "[13]\tvalidation_0-error:0.23666\tvalidation_1-error:0.23880\n",
            "[14]\tvalidation_0-error:0.22815\tvalidation_1-error:0.23031\n",
            "[15]\tvalidation_0-error:0.22211\tvalidation_1-error:0.22443\n",
            "[16]\tvalidation_0-error:0.21819\tvalidation_1-error:0.22060\n",
            "[17]\tvalidation_0-error:0.21749\tvalidation_1-error:0.22008\n",
            "[18]\tvalidation_0-error:0.21356\tvalidation_1-error:0.21577\n",
            "[19]\tvalidation_0-error:0.20979\tvalidation_1-error:0.21201\n",
            "[20]\tvalidation_0-error:0.20659\tvalidation_1-error:0.20847\n",
            "[21]\tvalidation_0-error:0.20163\tvalidation_1-error:0.20315\n",
            "[22]\tvalidation_0-error:0.19862\tvalidation_1-error:0.20010\n",
            "[23]\tvalidation_0-error:0.19607\tvalidation_1-error:0.19759\n",
            "[24]\tvalidation_0-error:0.19306\tvalidation_1-error:0.19568\n",
            "[25]\tvalidation_0-error:0.19036\tvalidation_1-error:0.19304\n",
            "[26]\tvalidation_0-error:0.18602\tvalidation_1-error:0.18895\n",
            "[27]\tvalidation_0-error:0.18422\tvalidation_1-error:0.18694\n",
            "[28]\tvalidation_0-error:0.18077\tvalidation_1-error:0.18313\n",
            "[29]\tvalidation_0-error:0.17893\tvalidation_1-error:0.18159\n",
            "[30]\tvalidation_0-error:0.17630\tvalidation_1-error:0.17852\n",
            "[31]\tvalidation_0-error:0.17458\tvalidation_1-error:0.17693\n",
            "[32]\tvalidation_0-error:0.17096\tvalidation_1-error:0.17272\n",
            "[33]\tvalidation_0-error:0.16971\tvalidation_1-error:0.17169\n",
            "[34]\tvalidation_0-error:0.16499\tvalidation_1-error:0.16676\n",
            "[35]\tvalidation_0-error:0.16272\tvalidation_1-error:0.16424\n",
            "[36]\tvalidation_0-error:0.16061\tvalidation_1-error:0.16250\n",
            "[37]\tvalidation_0-error:0.15947\tvalidation_1-error:0.16120\n",
            "[38]\tvalidation_0-error:0.15752\tvalidation_1-error:0.15954\n",
            "[39]\tvalidation_0-error:0.15627\tvalidation_1-error:0.15852\n",
            "[40]\tvalidation_0-error:0.15533\tvalidation_1-error:0.15737\n",
            "[41]\tvalidation_0-error:0.15395\tvalidation_1-error:0.15617\n",
            "[42]\tvalidation_0-error:0.15294\tvalidation_1-error:0.15502\n",
            "[43]\tvalidation_0-error:0.15198\tvalidation_1-error:0.15388\n",
            "[44]\tvalidation_0-error:0.15028\tvalidation_1-error:0.15240\n",
            "[45]\tvalidation_0-error:0.14853\tvalidation_1-error:0.15091\n",
            "[46]\tvalidation_0-error:0.14552\tvalidation_1-error:0.14823\n",
            "[47]\tvalidation_0-error:0.14307\tvalidation_1-error:0.14604\n",
            "[48]\tvalidation_0-error:0.14065\tvalidation_1-error:0.14413\n",
            "[49]\tvalidation_0-error:0.13909\tvalidation_1-error:0.14253\n",
            "[50]\tvalidation_0-error:0.13762\tvalidation_1-error:0.14142\n",
            "[51]\tvalidation_0-error:0.13531\tvalidation_1-error:0.13910\n",
            "[52]\tvalidation_0-error:0.13418\tvalidation_1-error:0.13813\n",
            "[53]\tvalidation_0-error:0.13232\tvalidation_1-error:0.13652\n",
            "[54]\tvalidation_0-error:0.13110\tvalidation_1-error:0.13512\n",
            "[55]\tvalidation_0-error:0.12978\tvalidation_1-error:0.13396\n",
            "[56]\tvalidation_0-error:0.12732\tvalidation_1-error:0.13167\n",
            "[57]\tvalidation_0-error:0.12660\tvalidation_1-error:0.13090\n",
            "[58]\tvalidation_0-error:0.12501\tvalidation_1-error:0.12946\n",
            "[59]\tvalidation_0-error:0.12303\tvalidation_1-error:0.12753\n",
            "[60]\tvalidation_0-error:0.12118\tvalidation_1-error:0.12593\n",
            "[61]\tvalidation_0-error:0.11951\tvalidation_1-error:0.12427\n",
            "[62]\tvalidation_0-error:0.11882\tvalidation_1-error:0.12381\n",
            "[63]\tvalidation_0-error:0.11811\tvalidation_1-error:0.12305\n",
            "[64]\tvalidation_0-error:0.11688\tvalidation_1-error:0.12174\n",
            "[65]\tvalidation_0-error:0.11552\tvalidation_1-error:0.12049\n",
            "[66]\tvalidation_0-error:0.11387\tvalidation_1-error:0.11886\n",
            "[67]\tvalidation_0-error:0.11257\tvalidation_1-error:0.11769\n",
            "[68]\tvalidation_0-error:0.11270\tvalidation_1-error:0.11785\n",
            "[69]\tvalidation_0-error:0.11167\tvalidation_1-error:0.11688\n",
            "[70]\tvalidation_0-error:0.11081\tvalidation_1-error:0.11636\n",
            "[71]\tvalidation_0-error:0.11033\tvalidation_1-error:0.11556\n",
            "[72]\tvalidation_0-error:0.10988\tvalidation_1-error:0.11504\n",
            "[73]\tvalidation_0-error:0.10852\tvalidation_1-error:0.11367\n",
            "[74]\tvalidation_0-error:0.10769\tvalidation_1-error:0.11305\n",
            "[75]\tvalidation_0-error:0.10739\tvalidation_1-error:0.11278\n",
            "[76]\tvalidation_0-error:0.10629\tvalidation_1-error:0.11197\n",
            "[77]\tvalidation_0-error:0.10557\tvalidation_1-error:0.11142\n",
            "[78]\tvalidation_0-error:0.10510\tvalidation_1-error:0.11083\n",
            "[79]\tvalidation_0-error:0.10440\tvalidation_1-error:0.10980\n",
            "[80]\tvalidation_0-error:0.10324\tvalidation_1-error:0.10833\n",
            "[81]\tvalidation_0-error:0.10187\tvalidation_1-error:0.10694\n",
            "[82]\tvalidation_0-error:0.10181\tvalidation_1-error:0.10670\n",
            "[83]\tvalidation_0-error:0.10123\tvalidation_1-error:0.10657\n",
            "[84]\tvalidation_0-error:0.09954\tvalidation_1-error:0.10487\n",
            "[85]\tvalidation_0-error:0.09865\tvalidation_1-error:0.10406\n",
            "[86]\tvalidation_0-error:0.09756\tvalidation_1-error:0.10317\n",
            "[87]\tvalidation_0-error:0.09696\tvalidation_1-error:0.10245\n",
            "[88]\tvalidation_0-error:0.09614\tvalidation_1-error:0.10154\n",
            "[89]\tvalidation_0-error:0.09611\tvalidation_1-error:0.10141\n",
            "[90]\tvalidation_0-error:0.09516\tvalidation_1-error:0.10043\n",
            "[91]\tvalidation_0-error:0.09462\tvalidation_1-error:0.09977\n",
            "[92]\tvalidation_0-error:0.09343\tvalidation_1-error:0.09857\n",
            "[93]\tvalidation_0-error:0.09210\tvalidation_1-error:0.09723\n",
            "[94]\tvalidation_0-error:0.09149\tvalidation_1-error:0.09654\n",
            "[95]\tvalidation_0-error:0.09069\tvalidation_1-error:0.09618\n",
            "[96]\tvalidation_0-error:0.08960\tvalidation_1-error:0.09491\n",
            "[97]\tvalidation_0-error:0.08853\tvalidation_1-error:0.09389\n",
            "[98]\tvalidation_0-error:0.08787\tvalidation_1-error:0.09297\n",
            "[99]\tvalidation_0-error:0.08755\tvalidation_1-error:0.09261\n"
          ]
        },
        {
          "output_type": "display_data",
          "data": {
            "text/plain": [
              "<Figure size 640x480 with 1 Axes>"
            ],
            "image/png": "[encoded data removed]"
          },
          "metadata": {}
        },
        {
          "output_type": "stream",
          "name": "stdout",
          "text": [
            "Accuracy: 0.9073922000835603\n"
          ]
        }
      ]
    },
    {
      "cell_type": "code",
      "source": [
        "from sklearn.metrics import confusion_matrix\n",
        "import seaborn as sns\n",
        "\n",
        "# Create a confusion matrix\n",
        "cm = confusion_matrix(y_test, y_pred)\n",
        "\n",
        "# Plot the confusion matrix\n",
        "plt.figure(figsize=(8, 6))\n",
        "sns.heatmap(cm, annot=True, cmap='Blues', fmt='d', cbar=False)\n",
        "\n",
        "column_names = ['non_duplicated', 'duplicated']\n",
        "# Set x-axis and y-axis ticks and labels\n",
        "plt.xticks(ticks=[i + 0.5 for i in range(len(column_names))], labels=column_names, rotation=0)\n",
        "plt.yticks(ticks=[i + 0.5 for i in range(len(column_names))], labels=column_names, rotation=90)\n",
        "\n",
        "plt.xlabel('Predicted')\n",
        "plt.ylabel('True')\n",
        "plt.title('Confusion Matrix')\n",
        "plt.show()"
      ],
      "metadata": {
        "colab": {
          "base_uri": "https://localhost:8080/",
          "height": 564
        },
        "id": "mzHljZnHaWj7",
        "outputId": "ea8b1449-5360-4fe0-d3b1-9eec48f3e9f3"
      },
      "execution_count": null,
      "outputs": [
        {
          "output_type": "display_data",
          "data": {
            "text/plain": [
              "<Figure size 800x600 with 1 Axes>"
            ],
            "image/png": "[encoded data removed]"
          },
          "metadata": {}
        }
      ]
    },
    {
      "cell_type": "code",
      "source": [
        "# Save the model to a file\n",
        "model.save_model('xgboost_model.model')"
      ],
      "metadata": {
        "id": "1FeCayBJeVlK"
      },
      "execution_count": null,
      "outputs": []
    },
    {
      "cell_type": "markdown",
      "source": [
        "# Clustering"
      ],
      "metadata": {
        "id": "Wxr4uL_AcFa_"
      }
    },
    {
      "cell_type": "markdown",
      "source": [
        "The trained algorithm has a pretty good accuracy, however compare with every product in platform can produces an acumulative error and reduces the model performance, now the objective is find patterns with unsupervised learning. In that way, we can use our model only in samples that has the sames patterns and improve our performance."
      ],
      "metadata": {
        "id": "O-EBDPYncedd"
      }
    },
    {
      "cell_type": "code",
      "source": [
        "cluster_df = train_df[['image_phash','title']].reset_index()"
      ],
      "metadata": {
        "id": "deHhQHZscHi2"
      },
      "execution_count": null,
      "outputs": []
    },
    {
      "cell_type": "code",
      "source": [
        "from sklearn.cluster import KMeans\n",
        "from sklearn.metrics import silhouette_score\n",
        "\n",
        "# Create an instance of the KMeans clustering algorithm\n",
        "kmeans = KMeans(n_clusters=10, n_init=10)\n",
        "\n",
        "# Join columns\n",
        "X = cluster_df.apply(lambda row: ' '.join(row.values.astype(str)), axis=1)\n",
        "\n",
        "# Create an instance of TfidfVectorizer\n",
        "vectorizer = TfidfVectorizer()\n",
        "\n",
        "# Fit the vectorizer to the documents and transform the documents into TF-IDF features\n",
        "X = vectorizer.fit_transform(X)\n",
        "\n",
        "\n",
        "# Initialize variables to store best silhouette score and corresponding number of clusters\n",
        "best_score = -1\n",
        "best_clusters = -1\n",
        "\n",
        "# Initialize lists to store the number of clusters and corresponding silhouette scores\n",
        "num_clusters = []\n",
        "silhouette_scores = []\n",
        "\n",
        "# Try different numbers of clusters\n",
        "for n_clusters in range(2, 11):\n",
        "    # Create an instance of the KMeans clustering algorithm\n",
        "    kmeans = KMeans(n_clusters=n_clusters, n_init=10)\n",
        "    \n",
        "    # Fit the model to the scaled data\n",
        "    kmeans.fit(X)\n",
        "    \n",
        "    # Get the cluster labels for each data point\n",
        "    labels = kmeans.labels_\n",
        "    \n",
        "    # Calculate the silhouette score\n",
        "    silhouette_avg = silhouette_score(X, labels)\n",
        "    \n",
        "    # Print the silhouette score for the current number of clusters\n",
        "    print(f\"For n_clusters = {n_clusters}, the silhouette score is {silhouette_avg}\")\n",
        "    \n",
        "    # Append the number of clusters and silhouette score to the lists\n",
        "    num_clusters.append(n_clusters)\n",
        "    silhouette_scores.append(silhouette_avg)\n",
        "\n",
        "    # Check if the current score is better than the previous best score\n",
        "    if silhouette_avg > best_score:\n",
        "        best_score = silhouette_avg\n",
        "        best_clusters = n_clusters\n",
        "\n",
        "# Print the best number of clusters\n",
        "print(f\"The best number of clusters is {best_clusters} with a silhouette score of {best_score}\")\n",
        "\n",
        "# Plot the number of clusters vs. silhouette scores\n",
        "plt.plot(num_clusters, silhouette_scores, marker='o')\n",
        "plt.xlabel('Number of Clusters')\n",
        "plt.ylabel('Silhouette Score')\n",
        "plt.title('Number of Clusters vs. Silhouette Score')\n",
        "plt.show()"
      ],
      "metadata": {
        "colab": {
          "base_uri": "https://localhost:8080/",
          "height": 657
        },
        "id": "ppmL5WIXel0a",
        "outputId": "b597498f-9ca1-4fce-9aff-4b6dc3b98df9"
      },
      "execution_count": null,
      "outputs": [
        {
          "output_type": "stream",
          "name": "stdout",
          "text": [
            "For n_clusters = 2, the silhouette score is 0.001310455951907137\n",
            "For n_clusters = 3, the silhouette score is 0.001580824474959057\n",
            "For n_clusters = 4, the silhouette score is 0.001799745850491886\n",
            "For n_clusters = 5, the silhouette score is 0.002376166932739232\n",
            "For n_clusters = 6, the silhouette score is 0.0025260090673919645\n",
            "For n_clusters = 7, the silhouette score is 0.0028764320260906925\n",
            "For n_clusters = 8, the silhouette score is 0.0033294502359484564\n",
            "For n_clusters = 9, the silhouette score is 0.0038018540703194745\n",
            "For n_clusters = 10, the silhouette score is 0.00407825824501732\n",
            "The best number of clusters is 10 with a silhouette score of 0.00407825824501732\n"
          ]
        },
        {
          "output_type": "display_data",
          "data": {
            "text/plain": [
              "<Figure size 640x480 with 1 Axes>"
            ],
            "image/png": "[encoded data removed]"
          },
          "metadata": {}
        }
      ]
    },
    {
      "cell_type": "code",
      "source": [
        "# Create an instance of the KMeans clustering algorithm\n",
        "kmeans = KMeans(n_clusters=45, n_init=10)\n",
        "\n",
        "# Fit the model to the scaled data\n",
        "kmeans.fit(X)\n",
        "\n",
        "# Get the cluster labels for each data point\n",
        "labels = kmeans.labels_\n",
        "\n",
        "# Calculate the silhouette score\n",
        "silhouette_avg = silhouette_score(X, labels)\n",
        "    "
      ],
      "metadata": {
        "id": "vAfSmLHNksV7"
      },
      "execution_count": null,
      "outputs": []
    },
    {
      "cell_type": "code",
      "source": [
        "print(\"Silhouette Score:\", silhouette_avg)"
      ],
      "metadata": {
        "colab": {
          "base_uri": "https://localhost:8080/"
        },
        "id": "0rZL2j51if7Q",
        "outputId": "8f03b09b-040b-4943-b90d-a8327f54ac0f"
      },
      "execution_count": null,
      "outputs": [
        {
          "output_type": "stream",
          "name": "stdout",
          "text": [
            "Silhouette Score: 0.012569398832117672\n"
          ]
        }
      ]
    }
  ]
}